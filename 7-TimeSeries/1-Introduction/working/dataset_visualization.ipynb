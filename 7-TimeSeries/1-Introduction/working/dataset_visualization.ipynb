{
 "cells": [
  {
   "cell_type": "code",
   "execution_count": 26,
   "metadata": {},
   "outputs": [],
   "source": [
    "import os\n",
    "import matplotlib.pyplot as plt\n",
    "from common.utils import load_data\n",
    "%matplotlib inline\n",
    "import pandas as pd\n",
    "from datetime import datetime"
   ]
  },
  {
   "cell_type": "code",
   "execution_count": 27,
   "metadata": {},
   "outputs": [],
   "source": [
    "# sample datasets:\n",
    "cyclist_trip_path = \"./data/202106-divvy-tripdata.csv\"\n",
    "flight_data_path = \"./data/flights.csv\"\n",
    "container_data_path = \"./data/container-ports-2000-2017.csv\"\n"
   ]
  },
  {
   "cell_type": "code",
   "execution_count": 28,
   "metadata": {},
   "outputs": [
    {
     "data": {
      "text/html": [
       "<div>\n",
       "<style scoped>\n",
       "    .dataframe tbody tr th:only-of-type {\n",
       "        vertical-align: middle;\n",
       "    }\n",
       "\n",
       "    .dataframe tbody tr th {\n",
       "        vertical-align: top;\n",
       "    }\n",
       "\n",
       "    .dataframe thead th {\n",
       "        text-align: right;\n",
       "    }\n",
       "</style>\n",
       "<table border=\"1\" class=\"dataframe\">\n",
       "  <thead>\n",
       "    <tr style=\"text-align: right;\">\n",
       "      <th></th>\n",
       "      <th>ride_id</th>\n",
       "      <th>rideable_type</th>\n",
       "      <th>started_at</th>\n",
       "      <th>ended_at</th>\n",
       "      <th>start_station_name</th>\n",
       "      <th>start_station_id</th>\n",
       "      <th>end_station_name</th>\n",
       "      <th>end_station_id</th>\n",
       "      <th>start_lat</th>\n",
       "      <th>start_lng</th>\n",
       "      <th>end_lat</th>\n",
       "      <th>end_lng</th>\n",
       "      <th>member_casual</th>\n",
       "    </tr>\n",
       "  </thead>\n",
       "  <tbody>\n",
       "    <tr>\n",
       "      <th>0</th>\n",
       "      <td>99FEC93BA843FB20</td>\n",
       "      <td>electric_bike</td>\n",
       "      <td>2021-06-13 14:31:28</td>\n",
       "      <td>2021-06-13 14:34:11</td>\n",
       "      <td>NaN</td>\n",
       "      <td>NaN</td>\n",
       "      <td>NaN</td>\n",
       "      <td>NaN</td>\n",
       "      <td>41.80</td>\n",
       "      <td>-87.59</td>\n",
       "      <td>41.80</td>\n",
       "      <td>-87.60</td>\n",
       "      <td>member</td>\n",
       "    </tr>\n",
       "    <tr>\n",
       "      <th>1</th>\n",
       "      <td>06048DCFC8520CAF</td>\n",
       "      <td>electric_bike</td>\n",
       "      <td>2021-06-04 11:18:02</td>\n",
       "      <td>2021-06-04 11:24:19</td>\n",
       "      <td>NaN</td>\n",
       "      <td>NaN</td>\n",
       "      <td>NaN</td>\n",
       "      <td>NaN</td>\n",
       "      <td>41.79</td>\n",
       "      <td>-87.59</td>\n",
       "      <td>41.80</td>\n",
       "      <td>-87.60</td>\n",
       "      <td>member</td>\n",
       "    </tr>\n",
       "    <tr>\n",
       "      <th>2</th>\n",
       "      <td>9598066F68045DF2</td>\n",
       "      <td>electric_bike</td>\n",
       "      <td>2021-06-04 09:49:35</td>\n",
       "      <td>2021-06-04 09:55:34</td>\n",
       "      <td>NaN</td>\n",
       "      <td>NaN</td>\n",
       "      <td>NaN</td>\n",
       "      <td>NaN</td>\n",
       "      <td>41.80</td>\n",
       "      <td>-87.60</td>\n",
       "      <td>41.79</td>\n",
       "      <td>-87.59</td>\n",
       "      <td>member</td>\n",
       "    </tr>\n",
       "    <tr>\n",
       "      <th>3</th>\n",
       "      <td>B03C0FE48C412214</td>\n",
       "      <td>electric_bike</td>\n",
       "      <td>2021-06-03 19:56:05</td>\n",
       "      <td>2021-06-03 20:21:55</td>\n",
       "      <td>NaN</td>\n",
       "      <td>NaN</td>\n",
       "      <td>NaN</td>\n",
       "      <td>NaN</td>\n",
       "      <td>41.78</td>\n",
       "      <td>-87.58</td>\n",
       "      <td>41.80</td>\n",
       "      <td>-87.60</td>\n",
       "      <td>member</td>\n",
       "    </tr>\n",
       "    <tr>\n",
       "      <th>4</th>\n",
       "      <td>B9EEA89F8FEE73B7</td>\n",
       "      <td>electric_bike</td>\n",
       "      <td>2021-06-04 14:05:51</td>\n",
       "      <td>2021-06-04 14:09:59</td>\n",
       "      <td>NaN</td>\n",
       "      <td>NaN</td>\n",
       "      <td>NaN</td>\n",
       "      <td>NaN</td>\n",
       "      <td>41.80</td>\n",
       "      <td>-87.59</td>\n",
       "      <td>41.79</td>\n",
       "      <td>-87.59</td>\n",
       "      <td>member</td>\n",
       "    </tr>\n",
       "  </tbody>\n",
       "</table>\n",
       "</div>"
      ],
      "text/plain": [
       "            ride_id  rideable_type           started_at             ended_at  \\\n",
       "0  99FEC93BA843FB20  electric_bike  2021-06-13 14:31:28  2021-06-13 14:34:11   \n",
       "1  06048DCFC8520CAF  electric_bike  2021-06-04 11:18:02  2021-06-04 11:24:19   \n",
       "2  9598066F68045DF2  electric_bike  2021-06-04 09:49:35  2021-06-04 09:55:34   \n",
       "3  B03C0FE48C412214  electric_bike  2021-06-03 19:56:05  2021-06-03 20:21:55   \n",
       "4  B9EEA89F8FEE73B7  electric_bike  2021-06-04 14:05:51  2021-06-04 14:09:59   \n",
       "\n",
       "  start_station_name start_station_id end_station_name end_station_id  \\\n",
       "0                NaN              NaN              NaN            NaN   \n",
       "1                NaN              NaN              NaN            NaN   \n",
       "2                NaN              NaN              NaN            NaN   \n",
       "3                NaN              NaN              NaN            NaN   \n",
       "4                NaN              NaN              NaN            NaN   \n",
       "\n",
       "   start_lat  start_lng  end_lat  end_lng member_casual  \n",
       "0      41.80     -87.59    41.80   -87.60        member  \n",
       "1      41.79     -87.59    41.80   -87.60        member  \n",
       "2      41.80     -87.60    41.79   -87.59        member  \n",
       "3      41.78     -87.58    41.80   -87.60        member  \n",
       "4      41.80     -87.59    41.79   -87.59        member  "
      ]
     },
     "execution_count": 28,
     "metadata": {},
     "output_type": "execute_result"
    }
   ],
   "source": [
    "cyclist_df = pd.read_csv(cyclist_trip_path, delimiter=\",\")\n",
    "cyclist_df.head()"
   ]
  },
  {
   "cell_type": "code",
   "execution_count": 32,
   "metadata": {},
   "outputs": [],
   "source": [
    "# add date column containing only the day of the rides for each ride\n",
    "cyclist_df['started_at'] = pd.to_datetime(cyclist_df['started_at'], format='%Y-%m-%d %H:%M:%S')\n",
    "cyclist_df['day'] = cyclist_df['started_at'].dt.strftime('%m-%d')"
   ]
  },
  {
   "cell_type": "code",
   "execution_count": 33,
   "metadata": {},
   "outputs": [
    {
     "data": {
      "text/plain": [
       "0         06-13\n",
       "1         06-04\n",
       "2         06-04\n",
       "3         06-03\n",
       "4         06-04\n",
       "          ...  \n",
       "729590    06-14\n",
       "729591    06-30\n",
       "729592    06-13\n",
       "729593    06-08\n",
       "729594    06-03\n",
       "Name: day, Length: 729595, dtype: object"
      ]
     },
     "execution_count": 33,
     "metadata": {},
     "output_type": "execute_result"
    }
   ],
   "source": [
    "cyclist_df['day']"
   ]
  },
  {
   "cell_type": "code",
   "execution_count": null,
   "metadata": {},
   "outputs": [],
   "source": []
  }
 ],
 "metadata": {
  "interpreter": {
   "hash": "e4cce46d6be9934fbd27f9ca0432556941ea5bdf741d4f4d64c6cd7f8dfa8fba"
  },
  "kernelspec": {
   "display_name": "Python 3.8.8 ('base')",
   "language": "python",
   "name": "python3"
  },
  "language_info": {
   "codemirror_mode": {
    "name": "ipython",
    "version": 3
   },
   "file_extension": ".py",
   "mimetype": "text/x-python",
   "name": "python",
   "nbconvert_exporter": "python",
   "pygments_lexer": "ipython3",
   "version": "3.8.8"
  },
  "orig_nbformat": 4
 },
 "nbformat": 4,
 "nbformat_minor": 2
}
