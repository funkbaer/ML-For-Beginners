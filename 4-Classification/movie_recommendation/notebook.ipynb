{
 "cells": [
  {
   "cell_type": "code",
   "execution_count": 1,
   "metadata": {},
   "outputs": [],
   "source": [
    "import pandas as pd\n",
    "\n",
    "ratings_df = pd.read_csv('data/ratings.csv', delimiter=',')\n",
    "movies_df = pd.read_csv('data/movies.csv', delimiter=',')\n"
   ]
  },
  {
   "cell_type": "code",
   "execution_count": 2,
   "metadata": {},
   "outputs": [
    {
     "name": "stdout",
     "output_type": "stream",
     "text": [
      "<class 'pandas.core.frame.DataFrame'>\n",
      "RangeIndex: 25000095 entries, 0 to 25000094\n",
      "Data columns (total 4 columns):\n",
      " #   Column     Dtype  \n",
      "---  ------     -----  \n",
      " 0   userId     int64  \n",
      " 1   movieId    int64  \n",
      " 2   rating     float64\n",
      " 3   timestamp  int64  \n",
      "dtypes: float64(1), int64(3)\n",
      "memory usage: 762.9 MB\n"
     ]
    }
   ],
   "source": [
    "ratings_df.info()\n"
   ]
  },
  {
   "cell_type": "code",
   "execution_count": 3,
   "metadata": {},
   "outputs": [
    {
     "name": "stdout",
     "output_type": "stream",
     "text": [
      "<class 'pandas.core.frame.DataFrame'>\n",
      "RangeIndex: 62423 entries, 0 to 62422\n",
      "Data columns (total 3 columns):\n",
      " #   Column   Non-Null Count  Dtype \n",
      "---  ------   --------------  ----- \n",
      " 0   movieId  62423 non-null  int64 \n",
      " 1   title    62423 non-null  object\n",
      " 2   genres   62423 non-null  object\n",
      "dtypes: int64(1), object(2)\n",
      "memory usage: 1.4+ MB\n"
     ]
    }
   ],
   "source": [
    "movies_df.info()"
   ]
  },
  {
   "cell_type": "code",
   "execution_count": 4,
   "metadata": {},
   "outputs": [],
   "source": [
    "df = pd.DataFrame()\n",
    "\n",
    "genres = list(movies_df['genres'])\n",
    "\n",
    "df['splitted'] = movies_df['genres'].str.split('|')"
   ]
  },
  {
   "cell_type": "code",
   "execution_count": 5,
   "metadata": {},
   "outputs": [
    {
     "name": "stdout",
     "output_type": "stream",
     "text": [
      "0        [Adventure, Animation, Children, Comedy, Fantasy]\n",
      "1                           [Adventure, Children, Fantasy]\n",
      "2                                        [Comedy, Romance]\n",
      "3                                 [Comedy, Drama, Romance]\n",
      "4                                                 [Comedy]\n",
      "                               ...                        \n",
      "62418                                              [Drama]\n",
      "62419                                        [Documentary]\n",
      "62420                                      [Comedy, Drama]\n",
      "62421                                 [(no genres listed)]\n",
      "62422                           [Action, Adventure, Drama]\n",
      "Name: splitted, Length: 62423, dtype: object\n"
     ]
    }
   ],
   "source": [
    "print(df['splitted'])"
   ]
  },
  {
   "cell_type": "code",
   "execution_count": 6,
   "metadata": {},
   "outputs": [
    {
     "name": "stdout",
     "output_type": "stream",
     "text": [
      "<class 'pandas.core.frame.DataFrame'>\n",
      "RangeIndex: 62423 entries, 0 to 62422\n",
      "Data columns (total 20 columns):\n",
      " #   Column              Non-Null Count  Dtype           \n",
      "---  ------              --------------  -----           \n",
      " 0   (no genres listed)  62423 non-null  Sparse[int32, 0]\n",
      " 1   Action              62423 non-null  Sparse[int32, 0]\n",
      " 2   Adventure           62423 non-null  Sparse[int32, 0]\n",
      " 3   Animation           62423 non-null  Sparse[int32, 0]\n",
      " 4   Children            62423 non-null  Sparse[int32, 0]\n",
      " 5   Comedy              62423 non-null  Sparse[int32, 0]\n",
      " 6   Crime               62423 non-null  Sparse[int32, 0]\n",
      " 7   Documentary         62423 non-null  Sparse[int32, 0]\n",
      " 8   Drama               62423 non-null  Sparse[int32, 0]\n",
      " 9   Fantasy             62423 non-null  Sparse[int32, 0]\n",
      " 10  Film-Noir           62423 non-null  Sparse[int32, 0]\n",
      " 11  Horror              62423 non-null  Sparse[int32, 0]\n",
      " 12  IMAX                62423 non-null  Sparse[int32, 0]\n",
      " 13  Musical             62423 non-null  Sparse[int32, 0]\n",
      " 14  Mystery             62423 non-null  Sparse[int32, 0]\n",
      " 15  Romance             62423 non-null  Sparse[int32, 0]\n",
      " 16  Sci-Fi              62423 non-null  Sparse[int32, 0]\n",
      " 17  Thriller            62423 non-null  Sparse[int32, 0]\n",
      " 18  War                 62423 non-null  Sparse[int32, 0]\n",
      " 19  Western             62423 non-null  Sparse[int32, 0]\n",
      "dtypes: Sparse[int32, 0](20)\n",
      "memory usage: 877.5 KB\n"
     ]
    }
   ],
   "source": [
    "from sklearn.preprocessing import MultiLabelBinarizer\n",
    "\n",
    "mlb = MultiLabelBinarizer(sparse_output=True)\n",
    "\n",
    "df = df.join(\n",
    "            pd.DataFrame.sparse.from_spmatrix(\n",
    "                mlb.fit_transform(df.pop('splitted')),\n",
    "                index=df.index,\n",
    "                columns=mlb.classes_))\n",
    "# print(df)\n",
    "\n",
    "df.info()"
   ]
  },
  {
   "cell_type": "code",
   "execution_count": 7,
   "metadata": {},
   "outputs": [
    {
     "name": "stdout",
     "output_type": "stream",
     "text": [
      "<class 'pandas.core.frame.DataFrame'>\n",
      "RangeIndex: 62423 entries, 0 to 62422\n",
      "Data columns (total 20 columns):\n",
      " #   Column              Non-Null Count  Dtype\n",
      "---  ------              --------------  -----\n",
      " 0   (no genres listed)  62423 non-null  int32\n",
      " 1   Action              62423 non-null  int32\n",
      " 2   Adventure           62423 non-null  int32\n",
      " 3   Animation           62423 non-null  int32\n",
      " 4   Children            62423 non-null  int32\n",
      " 5   Comedy              62423 non-null  int32\n",
      " 6   Crime               62423 non-null  int32\n",
      " 7   Documentary         62423 non-null  int32\n",
      " 8   Drama               62423 non-null  int32\n",
      " 9   Fantasy             62423 non-null  int32\n",
      " 10  Film-Noir           62423 non-null  int32\n",
      " 11  Horror              62423 non-null  int32\n",
      " 12  IMAX                62423 non-null  int32\n",
      " 13  Musical             62423 non-null  int32\n",
      " 14  Mystery             62423 non-null  int32\n",
      " 15  Romance             62423 non-null  int32\n",
      " 16  Sci-Fi              62423 non-null  int32\n",
      " 17  Thriller            62423 non-null  int32\n",
      " 18  War                 62423 non-null  int32\n",
      " 19  Western             62423 non-null  int32\n",
      "dtypes: int32(20)\n",
      "memory usage: 4.8 MB\n"
     ]
    }
   ],
   "source": [
    "df2 = df.sparse.to_dense()\n",
    "df2.info()"
   ]
  },
  {
   "cell_type": "code",
   "execution_count": 8,
   "metadata": {},
   "outputs": [
    {
     "name": "stdout",
     "output_type": "stream",
     "text": [
      "<class 'pandas.core.frame.DataFrame'>\n",
      "RangeIndex: 62423 entries, 0 to 62422\n",
      "Data columns (total 20 columns):\n",
      " #   Column              Non-Null Count  Dtype\n",
      "---  ------              --------------  -----\n",
      " 0   (no genres listed)  62423 non-null  int32\n",
      " 1   Action              62423 non-null  int32\n",
      " 2   Adventure           62423 non-null  int32\n",
      " 3   Animation           62423 non-null  int32\n",
      " 4   Children            62423 non-null  int32\n",
      " 5   Comedy              62423 non-null  int32\n",
      " 6   Crime               62423 non-null  int32\n",
      " 7   Documentary         62423 non-null  int32\n",
      " 8   Drama               62423 non-null  int32\n",
      " 9   Fantasy             62423 non-null  int32\n",
      " 10  Film-Noir           62423 non-null  int32\n",
      " 11  Horror              62423 non-null  int32\n",
      " 12  IMAX                62423 non-null  int32\n",
      " 13  Musical             62423 non-null  int32\n",
      " 14  Mystery             62423 non-null  int32\n",
      " 15  Romance             62423 non-null  int32\n",
      " 16  Sci-Fi              62423 non-null  int32\n",
      " 17  Thriller            62423 non-null  int32\n",
      " 18  War                 62423 non-null  int32\n",
      " 19  Western             62423 non-null  int32\n",
      "dtypes: int32(20)\n",
      "memory usage: 4.8 MB\n"
     ]
    }
   ],
   "source": [
    "from sklearn.model_selection import train_test_split\n",
    "from sklearn.svm import SVC\n",
    "from sklearn.model_selection import cross_val_score\n",
    "from sklearn.metrics import accuracy_score,precision_score,confusion_matrix,classification_report\n",
    "\n",
    "X = df2\n",
    "X.info()\n",
    "y = movies_df[['title']]\n",
    "# y.info()"
   ]
  },
  {
   "cell_type": "code",
   "execution_count": 9,
   "metadata": {},
   "outputs": [],
   "source": [
    "X_train, X_test, y_train, y_test = train_test_split(X,y,test_size=0.3)\n",
    "model = SVC(kernel='linear', C=10, probability=True,random_state=0)\n",
    "model.fit(X_train,y_train.values.ravel())\n",
    "\n",
    "\n",
    "y_pred = model.predict(X_test)\n",
    "print(classification_report(y_test, y_pred))"
   ]
  },
  {
   "cell_type": "code",
   "execution_count": null,
   "metadata": {},
   "outputs": [],
   "source": [
    "from skl2onnx import convert_sklearn\n",
    "from skl2onnx.common.data_types import FloatTensorType\n",
    "\n",
    "initial_type = [('float_input', FloatTensorType([None, 380]))]\n",
    "options = {id(model): {'nocl': True, 'zipmap': False}}\n",
    "\n",
    "onx = convert_sklearn(model, initial_types=initial_type, options=options)\n",
    "with open(\"./model.onnx\", \"wb\") as f:\n",
    "    f.write(onx.SerializeToString())"
   ]
  }
 ],
 "metadata": {
  "interpreter": {
   "hash": "e4cce46d6be9934fbd27f9ca0432556941ea5bdf741d4f4d64c6cd7f8dfa8fba"
  },
  "kernelspec": {
   "display_name": "Python 3.8.8 ('base')",
   "language": "python",
   "name": "python3"
  },
  "language_info": {
   "codemirror_mode": {
    "name": "ipython",
    "version": 3
   },
   "file_extension": ".py",
   "mimetype": "text/x-python",
   "name": "python",
   "nbconvert_exporter": "python",
   "pygments_lexer": "ipython3",
   "version": "3.8.8"
  },
  "orig_nbformat": 4
 },
 "nbformat": 4,
 "nbformat_minor": 2
}
