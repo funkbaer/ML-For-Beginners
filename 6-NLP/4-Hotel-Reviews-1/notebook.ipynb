{
 "cells": [
  {
   "cell_type": "code",
   "execution_count": 2,
   "metadata": {},
   "outputs": [
    {
     "name": "stdout",
     "output_type": "stream",
     "text": [
      "Loading data file now, this could take a while depending on file size\n",
      "Loading took 1.74 seconds\n"
     ]
    }
   ],
   "source": [
    "# Load the hotel reviews from CSV\n",
    "import pandas as pd\n",
    "import time\n",
    "# importing time so the start and end time can be used to calculate file loading time\n",
    "print(\"Loading data file now, this could take a while depending on file size\")\n",
    "start = time.time()\n",
    "# df is 'DataFrame' - make sure you downloaded the file to the data folder\n",
    "df = pd.read_csv('../data/Hotel_Reviews.csv')\n",
    "end = time.time()\n",
    "print(\"Loading took \" + str(round(end - start, 2)) + \" seconds\")"
   ]
  },
  {
   "cell_type": "code",
   "execution_count": 4,
   "metadata": {},
   "outputs": [
    {
     "name": "stdout",
     "output_type": "stream",
     "text": [
      "<class 'pandas.core.frame.DataFrame'>\n",
      "RangeIndex: 515738 entries, 0 to 515737\n",
      "Data columns (total 17 columns):\n",
      " #   Column                                      Non-Null Count   Dtype  \n",
      "---  ------                                      --------------   -----  \n",
      " 0   Hotel_Address                               515738 non-null  object \n",
      " 1   Additional_Number_of_Scoring                515738 non-null  int64  \n",
      " 2   Review_Date                                 515738 non-null  object \n",
      " 3   Average_Score                               515738 non-null  float64\n",
      " 4   Hotel_Name                                  515738 non-null  object \n",
      " 5   Reviewer_Nationality                        515738 non-null  object \n",
      " 6   Negative_Review                             515738 non-null  object \n",
      " 7   Review_Total_Negative_Word_Counts           515738 non-null  int64  \n",
      " 8   Total_Number_of_Reviews                     515738 non-null  int64  \n",
      " 9   Positive_Review                             515738 non-null  object \n",
      " 10  Review_Total_Positive_Word_Counts           515738 non-null  int64  \n",
      " 11  Total_Number_of_Reviews_Reviewer_Has_Given  515738 non-null  int64  \n",
      " 12  Reviewer_Score                              515738 non-null  float64\n",
      " 13  Tags                                        515738 non-null  object \n",
      " 14  days_since_review                           515738 non-null  object \n",
      " 15  lat                                         512470 non-null  float64\n",
      " 16  lng                                         512470 non-null  float64\n",
      "dtypes: float64(4), int64(5), object(8)\n",
      "memory usage: 66.9+ MB\n"
     ]
    }
   ],
   "source": [
    "df.info()"
   ]
  },
  {
   "cell_type": "code",
   "execution_count": 5,
   "metadata": {},
   "outputs": [
    {
     "name": "stdout",
     "output_type": "stream",
     "text": [
      "Distinct nationality values: [' Russia ' ' Ireland ' ' Australia ' ' United Kingdom ' ' New Zealand '\n",
      " ' Poland ' ' Belgium ' ' Norway ' ' France ' ' Italy ' ' Canada '\n",
      " ' Netherlands ' ' Germany ' ' United States of America ' ' Hungary '\n",
      " ' Israel ' ' Switzerland ' ' India ' ' United Arab Emirates '\n",
      " ' Malaysia ' ' Denmark ' ' South Africa ' ' Rwanda ' ' Finland '\n",
      " ' Portugal ' ' Luxembourg ' ' Spain ' ' Malta ' ' China ' ' Turkey '\n",
      " ' Ukraine ' ' Gibraltar ' ' Argentina ' ' Abkhazia Georgia '\n",
      " ' Isle of Man ' ' Sweden ' ' Croatia ' ' Saudi Arabia ' ' Lithuania '\n",
      " ' Slovenia ' ' Panama ' ' Austria ' ' Brazil ' ' Taiwan ' ' Iceland '\n",
      " ' Iran ' ' Liechtenstein ' ' Chile ' ' Hong Kong '\n",
      " ' United States Minor Outlying Islands ' ' Morocco ' ' Oman ' ' Lebanon '\n",
      " ' Qatar ' ' Nigeria ' ' Romania ' ' Czech Republic ' ' Greece '\n",
      " ' Thailand ' ' Singapore ' ' Guernsey ' ' Latvia ' ' Namibia ' ' Japan '\n",
      " ' Egypt ' ' Slovakia ' ' South Korea ' ' Kuwait ' ' Bahrain ' ' Jersey '\n",
      " ' Jordan ' ' Bulgaria ' ' Cyprus ' ' Albania ' ' Estonia ' ' Serbia '\n",
      " ' Belarus ' ' Puerto Rico ' ' Sudan ' ' Sri Lanka ' ' Indonesia '\n",
      " ' Honduras ' ' Philippines ' ' Montenegro ' ' Uruguay ' ' Brunei '\n",
      " ' Pakistan ' ' Kosovo ' ' Azerbaijan ' ' ' ' Botswana ' ' Tanzania '\n",
      " ' Bangladesh ' ' Trinidad and Tobago ' ' Palestinian Territory ' ' Peru '\n",
      " ' Mexico ' ' Kenya ' ' Zimbabwe ' ' Macedonia ' ' Georgia ' ' Bermuda '\n",
      " ' Costa Rica ' ' Bahamas ' ' Maldives ' ' Barbados ' ' Libya ' ' Fiji '\n",
      " ' Angola ' ' Kazakhstan ' ' Bosnia and Herzegovina ' ' Colombia '\n",
      " ' Armenia ' ' Vietnam ' ' Iraq ' ' Monaco ' ' Uganda ' ' Togo '\n",
      " ' Guatemala ' ' Ghana ' ' Macau ' ' Zambia ' ' Jamaica ' ' Mauritius '\n",
      " ' Venezuela ' ' Crimea ' ' St Maarten ' ' Algeria ' ' Equatorial Guinea '\n",
      " ' Nicaragua ' ' Comoros ' ' Cayman Islands ' ' Ethiopia '\n",
      " ' Dominican Republic ' ' Ecuador ' ' Uzbekistan '\n",
      " ' Turks Caicos Islands ' ' Nepal ' ' Mozambique ' ' Sierra Leone '\n",
      " ' Ivory Coast ' ' Cura ao ' ' Antigua Barbuda ' ' Burundi '\n",
      " ' East Timor ' ' Tunisia ' ' Andorra ' ' U S Virgin Islands '\n",
      " ' Antarctica ' ' Papua New Guinea ' ' Montserrat ' ' Malawi ' ' Yemen '\n",
      " ' Suriname ' ' Paraguay ' ' Aruba ' ' Mongolia ' ' Moldova '\n",
      " ' St Pierre and Miquelon ' ' Cambodia ' ' Seychelles ' ' Guyana '\n",
      " ' Senegal ' ' El Salvador ' ' Guam ' ' Myanmar ' ' Madagascar ' ' Benin '\n",
      " ' Saint Kitts and Nevis ' ' Martinique ' ' Vanuatu '\n",
      " ' British Virgin Islands ' ' Belize '\n",
      " ' Democratic Republic of the Congo ' ' Gabon ' ' New Caledonia '\n",
      " ' Bhutan ' ' Faroe Islands ' ' Kyrgyzstan ' ' Gambia ' ' Syria ' ' Laos '\n",
      " ' Mauritania ' ' Central Africa Republic ' ' Reunion ' ' Saint Martin '\n",
      " ' Cameroon ' ' Guadeloupe ' ' Liberia ' ' Haiti ' ' Mali '\n",
      " ' Saint Lucia ' ' French Guiana ' ' Swaziland '\n",
      " ' Falkland Islands Malvinas ' ' Tajikistan ' ' Afghanistan ' ' Bolivia '\n",
      " ' Dominica ' ' Niger ' ' Samoa ' ' Lesotho ' ' French Polynesia '\n",
      " ' Grenada ' ' Wallis and Futuna ' ' Svalbard Jan Mayen ' ' Djibouti '\n",
      " ' Saint Barts ' ' Kiribati ' ' Cook Islands ' ' Congo ' ' Somalia '\n",
      " ' Eritrea ' ' Saint Vincent Grenadines ' ' San Marino ' ' Turkmenistan '\n",
      " ' Vatican City ' ' South Sudan ' ' Anguilla ' ' Cocos K I '\n",
      " ' Bonaire St Eustatius and Saba ' ' Cape Verde '\n",
      " ' Northern Mariana Islands ' ' Tuvalu ' ' Guinea ' ' American Samoa '\n",
      " ' Palau '] Number of values: 227\n"
     ]
    }
   ],
   "source": [
    "print(f\"Distinct nationality values: {df['Reviewer_Nationality'].unique()} Number of values: {len(df['Reviewer_Nationality'].unique())}\")"
   ]
  },
  {
   "cell_type": "code",
   "execution_count": 35,
   "metadata": {},
   "outputs": [],
   "source": [
    "dct = {}\n",
    "for nationality in df['Reviewer_Nationality'].unique():\n",
    "    # print((df['Reviewer_Nationality'] == nationality).sum())\n",
    "    dct[nationality] = (df['Reviewer_Nationality'] == nationality).sum()\n",
    "\n",
    "\n"
   ]
  },
  {
   "cell_type": "code",
   "execution_count": 32,
   "metadata": {},
   "outputs": [],
   "source": [
    "df_tmp = pd.DataFrame(list(dct.items()), columns=['Country', 'Number'])"
   ]
  },
  {
   "cell_type": "code",
   "execution_count": 43,
   "metadata": {},
   "outputs": [
    {
     "name": "stdout",
     "output_type": "stream",
     "text": [
      "                       Country  Number\n",
      "3              United Kingdom   245246\n",
      "13   United States of America    35437\n",
      "2                   Australia    21686\n",
      "1                     Ireland    14827\n",
      "18       United Arab Emirates    10235\n",
      "37               Saudi Arabia     8951\n",
      "11                Netherlands     8772\n",
      "16                Switzerland     8678\n",
      "12                    Germany     7941\n",
      "10                     Canada     7894\n"
     ]
    }
   ],
   "source": [
    "\n",
    "sorted_df = df_tmp.sort_values(by=\"Number\", axis=0, ascending=False)\n",
    "print(sorted_df[0:10])"
   ]
  },
  {
   "cell_type": "code",
   "execution_count": 65,
   "metadata": {},
   "outputs": [
    {
     "name": "stdout",
     "output_type": "stream",
     "text": [
      "710386932\n",
      "82586022\n",
      "54285064\n",
      "45148704\n",
      "25365058\n",
      "22333044\n",
      "22686489\n",
      "22327217\n",
      "21761600\n",
      "20113069\n"
     ]
    }
   ],
   "source": [
    "# Top 10 reviewer countries:\n",
    "countries = sorted_df[0:10]['Country']\n",
    "# print(df['Total_Number_of_Reviews'])\n",
    "for country in countries:\n",
    "    # print(df['Reviewer_Nationality'] == country)\n",
    "    arr = df['Reviewer_Nationality'] == country\n",
    "    print(df['Total_Number_of_Reviews'][arr].sum())"
   ]
  },
  {
   "cell_type": "code",
   "execution_count": 56,
   "metadata": {},
   "outputs": [
    {
     "name": "stdout",
     "output_type": "stream",
     "text": [
      "16670\n"
     ]
    }
   ],
   "source": [
    "print(df['Total_Number_of_Reviews'].max())"
   ]
  },
  {
   "cell_type": "code",
   "execution_count": null,
   "metadata": {},
   "outputs": [],
   "source": []
  }
 ],
 "metadata": {
  "interpreter": {
   "hash": "e4cce46d6be9934fbd27f9ca0432556941ea5bdf741d4f4d64c6cd7f8dfa8fba"
  },
  "kernelspec": {
   "display_name": "Python 3.8.8 ('base')",
   "language": "python",
   "name": "python3"
  },
  "language_info": {
   "codemirror_mode": {
    "name": "ipython",
    "version": 3
   },
   "file_extension": ".py",
   "mimetype": "text/x-python",
   "name": "python",
   "nbconvert_exporter": "python",
   "pygments_lexer": "ipython3",
   "version": "3.8.8"
  },
  "orig_nbformat": 4
 },
 "nbformat": 4,
 "nbformat_minor": 2
}
